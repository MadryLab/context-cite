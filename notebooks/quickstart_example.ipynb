{
 "cells": [
  {
   "cell_type": "markdown",
   "id": "7275acd5",
   "metadata": {},
   "source": [
    "You can also follow along on Google Colab!\n",
    "\n",
    "<a target=\"_blank\" href=\"https://colab.research.google.com/github/MadryLab/context-cite/blob/main/notebooks/quickstart_example.ipynb\">\n",
    "  <img src=\"https://colab.research.google.com/assets/colab-badge.svg\" alt=\"Open In Colab\"/>\n",
    "</a>"
   ]
  },
  {
   "cell_type": "markdown",
   "id": "bf7b93d1",
   "metadata": {},
   "source": [
    "# Quickstart example for `ContextCite`"
   ]
  },
  {
   "cell_type": "markdown",
   "id": "5b607a04",
   "metadata": {},
   "source": [
    "In this notebook, we'll provide an overview of the ContextCite API by going through a simple example. **If running in Colab, be sure to change your to a GPU runtime!**"
   ]
  },
  {
   "cell_type": "markdown",
   "id": "e1f3590d",
   "metadata": {},
   "source": [
    "Let's start by installing the library:"
   ]
  },
  {
   "cell_type": "code",
   "execution_count": null,
   "id": "47770875",
   "metadata": {},
   "outputs": [],
   "source": [
    "# !pip install context-cite"
   ]
  },
  {
   "cell_type": "markdown",
   "id": "8961814f",
   "metadata": {},
   "source": [
    "We will use the `ContextCiter` class to attribute models' responses to sources within the context we provide to them."
   ]
  },
  {
   "cell_type": "code",
   "execution_count": 1,
   "id": "6fad41b3-3bcc-45cd-a1d3-2b382071360d",
   "metadata": {},
   "outputs": [
    {
     "name": "stderr",
     "output_type": "stream",
     "text": [
      "/Users/johnyang/miniforge3/envs/ccg/lib/python3.12/site-packages/tqdm/auto.py:21: TqdmWarning: IProgress not found. Please update jupyter and ipywidgets. See https://ipywidgets.readthedocs.io/en/stable/user_install.html\n",
      "  from .autonotebook import tqdm as notebook_tqdm\n",
      "[nltk_data] Downloading package punkt to /Users/johnyang/nltk_data...\n",
      "[nltk_data]   Package punkt is already up-to-date!\n"
     ]
    }
   ],
   "source": [
    "from context_cite import ContextCiter"
   ]
  },
  {
   "cell_type": "markdown",
   "id": "82a9244a",
   "metadata": {},
   "source": [
    "For this example, we'll use a TinyLlama chat model."
   ]
  },
  {
   "cell_type": "code",
   "execution_count": 2,
   "id": "e3665785-786e-4d6f-a85d-afecff1eca5e",
   "metadata": {},
   "outputs": [],
   "source": [
    "model_name_or_path = \"TinyLlama/TinyLlama-1.1B-Chat-v1.0\"\n",
    "\n",
    "context = \"\"\"\n",
    "Attention Is All You Need\n",
    "\n",
    "Abstract\n",
    "The dominant sequence transduction models are based on complex recurrent or convolutional neural networks that include an encoder and a decoder. The best performing models also connect the encoder and decoder through an attention mechanism. We propose a new simple network architecture, the Transformer, based solely on attention mechanisms, dispensing with recurrence and convolutions entirely. Experiments on two machine translation tasks show these models to be superior in quality while being more parallelizable and requiring significantly less time to train. Our model achieves 28.4 BLEU on the WMT 2014 English-to-German translation task, improving over the existing best results, including ensembles, by over 2 BLEU. On the WMT 2014 English-to-French translation task, our model establishes a new single-model state-of-the-art BLEU score of 41.8 after training for 3.5 days on eight GPUs, a small fraction of the training costs of the best models from the literature. We show that the Transformer generalizes well to other tasks by applying it successfully to English constituency parsing both with large and limited training data.\n",
    "1 Introduction\n",
    "Recurrent neural networks, long short-term memory [13] and gated recurrent [7] neural networks in particular, have been firmly established as state of the art approaches in sequence modeling and transduction problems such as language modeling and machine translation [35, 2, 5]. Numerous efforts have since continued to push the boundaries of recurrent language models and encoder-decoder architectures [38, 24, 15].\n",
    "Recurrent models typically factor computation along the symbol positions of the input and output sequences. Aligning the positions to steps in computation time, they generate a sequence of hidden states ht, as a function of the previous hidden state ht-1 and the input for position t. This inherently sequential nature precludes parallelization within training examples, which becomes critical at longer sequence lengths, as memory constraints limit batching across examples. Recent work has achieved significant improvements in computational efficiency through factorization tricks [21] and conditional computation [32], while also improving model performance in case of the latter. The fundamental constraint of sequential computation, however, remains.\n",
    "Attention mechanisms have become an integral part of compelling sequence modeling and transduction models in various tasks, allowing modeling of dependencies without regard to their distance in the input or output sequences [2, 19]. In all but a few cases [27], however, such attention mechanisms are used in conjunction with a recurrent network.\n",
    "In this work we propose the Transformer, a model architecture eschewing recurrence and instead relying entirely on an attention mechanism to draw global dependencies between input and output. The Transformer allows for significantly more parallelization and can reach a new state of the art in translation quality after being trained for as little as twelve hours on eight P100 GPUs.\n",
    "\"\"\"\n",
    "query = \"What type of GPUs did the authors use in this paper?\""
   ]
  },
  {
   "cell_type": "markdown",
   "id": "f6b21a01",
   "metadata": {},
   "source": [
    "### The `ContextCiter` class"
   ]
  },
  {
   "cell_type": "markdown",
   "id": "dfe847b5",
   "metadata": {},
   "source": [
    "We can directly instantiate the `ContextCiter` class with a huggingface-style `pretrained_model_name_or_path`, together with a `context`, and a `query` (passed in as strings)."
   ]
  },
  {
   "cell_type": "code",
   "execution_count": 3,
   "id": "e388e300",
   "metadata": {},
   "outputs": [
    {
     "name": "stderr",
     "output_type": "stream",
     "text": [
      "0.00s - Debugger warning: It seems that frozen modules are being used, which may\n",
      "0.00s - make the debugger miss breakpoints. Please pass -Xfrozen_modules=off\n",
      "0.00s - to python to disable frozen modules.\n",
      "0.00s - Note: Debugging will proceed. Set PYDEVD_DISABLE_FILE_VALIDATION=1 to disable this validation.\n"
     ]
    }
   ],
   "source": [
    "cc = ContextCiter.from_pretrained(model_name_or_path, context, query, device='cpu')"
   ]
  },
  {
   "cell_type": "markdown",
   "id": "2c965106",
   "metadata": {},
   "source": [
    "Alternatively, we can pass in a `model` and a `tokenizer`, which are instantiated from the `huggingface` library:"
   ]
  },
  {
   "cell_type": "code",
   "execution_count": 5,
   "id": "48d1d805",
   "metadata": {},
   "outputs": [],
   "source": [
    "from transformers import AutoTokenizer, AutoModelForCausalLM\n",
    "tokenizer = AutoTokenizer.from_pretrained(model_name_or_path)\n",
    "model = AutoModelForCausalLM.from_pretrained(model_name_or_path)\n",
    "# model.to(\"cuda\")\n",
    "cc = ContextCiter(model, tokenizer, context, query)"
   ]
  },
  {
   "cell_type": "markdown",
   "id": "d0d861e2",
   "metadata": {},
   "source": [
    "The `response` property of the ContextCiter class contains the response generated by the model. It is lazily generated when you access it."
   ]
  },
  {
   "cell_type": "code",
   "execution_count": 6,
   "id": "d7e3f6dd",
   "metadata": {},
   "outputs": [
    {
     "data": {
      "text/plain": [
       "'The authors used eight P100 GPUs in their Transformer architecture for training on the WMT 2014 English-to-German translation task.</s>'"
      ]
     },
     "execution_count": 6,
     "metadata": {},
     "output_type": "execute_result"
    }
   ],
   "source": [
    "cc.response"
   ]
  },
  {
   "cell_type": "markdown",
   "id": "2c11453a",
   "metadata": {},
   "source": [
    "Under the hood, the `ContextCiter` class applies a chat template to the\n",
    "tokenized context and query, and then uses the model to generate a response.\n",
    "That response is then stored in the `response` property."
   ]
  },
  {
   "cell_type": "markdown",
   "id": "7faa2559",
   "metadata": {},
   "source": [
    "### Attributing the response to sources within the context"
   ]
  },
  {
   "cell_type": "markdown",
   "id": "b4c6f5b5",
   "metadata": {},
   "source": [
    "To attribute the entire response and present the attributions in a human-readable format, we can use the `get_attributions` method, and pass in `as_dataframe=True`, as well as `top_k` to limit the number of sources to include in the attributions."
   ]
  },
  {
   "cell_type": "code",
   "execution_count": 7,
   "id": "846481c8",
   "metadata": {},
   "outputs": [
    {
     "name": "stdout",
     "output_type": "stream",
     "text": [
      "Attributed: The authors used eight P100 GPUs in their Transformer architecture for training on the WMT 2014 English-to-German translation task.</s>\n"
     ]
    },
    {
     "data": {
      "application/vnd.jupyter.widget-view+json": {
       "model_id": "463d7e118f6b4a6ca598c6e2c2ae6919",
       "version_major": 2,
       "version_minor": 0
      },
      "text/plain": [
       "  0%|          | 0/64 [00:00<?, ?it/s]"
      ]
     },
     "metadata": {},
     "output_type": "display_data"
    },
    {
     "data": {
      "text/html": [
       "<style type=\"text/css\">\n",
       "#T_fc629_row0_col0 {\n",
       "  background-color: rgb(80, 180, 80);\n",
       "}\n",
       "#T_fc629_row1_col0 {\n",
       "  background-color: rgb(96.12515753467864, 186.91078180057656, 96.12515753467864);\n",
       "}\n",
       "#T_fc629_row2_col0 {\n",
       "  background-color: rgb(188.09466043142282, 226.32628304203834, 188.09466043142282);\n",
       "}\n",
       "#T_fc629_row3_col0 {\n",
       "  background-color: rgb(230.92695885525018, 244.68298236653578, 230.92695885525018);\n",
       "}\n",
       "#T_fc629_row4_col0 {\n",
       "  background-color: rgb(234.72111023827816, 246.30904724497637, 234.72111023827816);\n",
       "}\n",
       "</style>\n",
       "<table id=\"T_fc629\">\n",
       "  <thead>\n",
       "    <tr>\n",
       "      <th class=\"blank level0\" >&nbsp;</th>\n",
       "      <th id=\"T_fc629_level0_col0\" class=\"col_heading level0 col0\" >Score</th>\n",
       "      <th id=\"T_fc629_level0_col1\" class=\"col_heading level0 col1\" >Source</th>\n",
       "    </tr>\n",
       "  </thead>\n",
       "  <tbody>\n",
       "    <tr>\n",
       "      <th id=\"T_fc629_level0_row0\" class=\"row_heading level0 row0\" >0</th>\n",
       "      <td id=\"T_fc629_row0_col0\" class=\"data row0 col0\" >13.855</td>\n",
       "      <td id=\"T_fc629_row0_col1\" class=\"data row0 col1\" >The Transformer allows for significantly more parallelization and can reach a new state of the art in translation quality after being trained for as little as twelve hours on eight P100 GPUs.</td>\n",
       "    </tr>\n",
       "    <tr>\n",
       "      <th id=\"T_fc629_level0_row1\" class=\"row_heading level0 row1\" >1</th>\n",
       "      <td id=\"T_fc629_row1_col0\" class=\"data row1 col0\" >12.578</td>\n",
       "      <td id=\"T_fc629_row1_col1\" class=\"data row1 col1\" >Our model achieves 28.4 BLEU on the WMT 2014 English-to-German translation task, improving over the existing best results, including ensembles, by over 2 BLEU.</td>\n",
       "    </tr>\n",
       "    <tr>\n",
       "      <th id=\"T_fc629_level0_row2\" class=\"row_heading level0 row2\" >2</th>\n",
       "      <td id=\"T_fc629_row2_col0\" class=\"data row2 col0\" >5.297</td>\n",
       "      <td id=\"T_fc629_row2_col1\" class=\"data row2 col1\" >On the WMT 2014 English-to-French translation task, our model establishes a new single-model state-of-the-art BLEU score of 41.8 after training for 3.5 days on eight GPUs, a small fraction of the training costs of the best models from the literature.</td>\n",
       "    </tr>\n",
       "    <tr>\n",
       "      <th id=\"T_fc629_level0_row3\" class=\"row_heading level0 row3\" >3</th>\n",
       "      <td id=\"T_fc629_row3_col0\" class=\"data row3 col0\" >1.906</td>\n",
       "      <td id=\"T_fc629_row3_col1\" class=\"data row3 col1\" >We propose a new simple network architecture, the Transformer, based solely on attention mechanisms, dispensing with recurrence and convolutions entirely.</td>\n",
       "    </tr>\n",
       "    <tr>\n",
       "      <th id=\"T_fc629_level0_row4\" class=\"row_heading level0 row4\" >4</th>\n",
       "      <td id=\"T_fc629_row4_col0\" class=\"data row4 col0\" >1.605</td>\n",
       "      <td id=\"T_fc629_row4_col1\" class=\"data row4 col1\" >In this work we propose the Transformer, a model architecture eschewing recurrence and instead relying entirely on an attention mechanism to draw global dependencies between input and output.</td>\n",
       "    </tr>\n",
       "  </tbody>\n",
       "</table>\n"
      ],
      "text/plain": [
       "<pandas.io.formats.style.Styler at 0x7fa6c3de95d0>"
      ]
     },
     "execution_count": 7,
     "metadata": {},
     "output_type": "execute_result"
    }
   ],
   "source": [
    "results = cc.get_attributions(as_dataframe=True, top_k=5)\n",
    "results"
   ]
  },
  {
   "cell_type": "markdown",
   "id": "33efa81a",
   "metadata": {},
   "source": [
    "`results` is a pandas styler object; to access the underlying dataframe:"
   ]
  },
  {
   "cell_type": "code",
   "execution_count": 8,
   "id": "ced5e02e",
   "metadata": {},
   "outputs": [
    {
     "data": {
      "text/html": [
       "<div>\n",
       "<style scoped>\n",
       "    .dataframe tbody tr th:only-of-type {\n",
       "        vertical-align: middle;\n",
       "    }\n",
       "\n",
       "    .dataframe tbody tr th {\n",
       "        vertical-align: top;\n",
       "    }\n",
       "\n",
       "    .dataframe thead th {\n",
       "        text-align: right;\n",
       "    }\n",
       "</style>\n",
       "<table border=\"1\" class=\"dataframe\">\n",
       "  <thead>\n",
       "    <tr style=\"text-align: right;\">\n",
       "      <th></th>\n",
       "      <th>Score</th>\n",
       "      <th>Source</th>\n",
       "    </tr>\n",
       "  </thead>\n",
       "  <tbody>\n",
       "    <tr>\n",
       "      <th>0</th>\n",
       "      <td>13.854755</td>\n",
       "      <td>The Transformer allows for significantly more ...</td>\n",
       "    </tr>\n",
       "    <tr>\n",
       "      <th>1</th>\n",
       "      <td>12.578126</td>\n",
       "      <td>Our model achieves 28.4 BLEU on the WMT 2014 E...</td>\n",
       "    </tr>\n",
       "    <tr>\n",
       "      <th>2</th>\n",
       "      <td>5.296898</td>\n",
       "      <td>On the WMT 2014 English-to-French translation ...</td>\n",
       "    </tr>\n",
       "    <tr>\n",
       "      <th>3</th>\n",
       "      <td>1.905863</td>\n",
       "      <td>We propose a new simple network architecture, ...</td>\n",
       "    </tr>\n",
       "    <tr>\n",
       "      <th>4</th>\n",
       "      <td>1.605480</td>\n",
       "      <td>In this work we propose the Transformer, a mod...</td>\n",
       "    </tr>\n",
       "  </tbody>\n",
       "</table>\n",
       "</div>"
      ],
      "text/plain": [
       "       Score                                             Source\n",
       "0  13.854755  The Transformer allows for significantly more ...\n",
       "1  12.578126  Our model achieves 28.4 BLEU on the WMT 2014 E...\n",
       "2   5.296898  On the WMT 2014 English-to-French translation ...\n",
       "3   1.905863  We propose a new simple network architecture, ...\n",
       "4   1.605480  In this work we propose the Transformer, a mod..."
      ]
     },
     "execution_count": 8,
     "metadata": {},
     "output_type": "execute_result"
    }
   ],
   "source": [
    "results.data"
   ]
  },
  {
   "cell_type": "markdown",
   "id": "464089b9",
   "metadata": {},
   "source": [
    "Alternatively, `.get_attributions()` can return the attribution scores as a `numpy` array, where the `i`th entry corresponds to the attribution score for the `i`th source in the context."
   ]
  },
  {
   "cell_type": "code",
   "execution_count": 9,
   "id": "0baec078",
   "metadata": {},
   "outputs": [
    {
     "name": "stdout",
     "output_type": "stream",
     "text": [
      "Attributed: The authors used eight P100 GPUs in their Transformer architecture for training on the WMT 2014 English-to-German translation task.</s>\n"
     ]
    },
    {
     "data": {
      "text/plain": [
       "array([-0.        , -0.04330927,  1.04502846, -0.        ,  1.90586331,\n",
       "       -0.51476877, 12.57812552,  5.29689752,  0.        ,  0.        ,\n",
       "       -0.        , -0.50834329, -0.26694862,  0.43843475, -0.33314404,\n",
       "        0.        ,  1.0499853 , -0.        ,  1.60548024, 13.85475467])"
      ]
     },
     "execution_count": 9,
     "metadata": {},
     "output_type": "execute_result"
    }
   ],
   "source": [
    "raw_results = cc.get_attributions()\n",
    "raw_results"
   ]
  },
  {
   "cell_type": "markdown",
   "id": "0f70dbe6",
   "metadata": {},
   "source": [
    "We can then match these attributions to the sources using the `sources` property:"
   ]
  },
  {
   "cell_type": "code",
   "execution_count": 10,
   "id": "4e4ad3d7",
   "metadata": {},
   "outputs": [
    {
     "data": {
      "text/plain": [
       "[('Attention Is All You Need', -0.0),\n",
       " ('Abstract', -0.04330927413135557),\n",
       " ('The dominant sequence transduction models are based on complex recurrent or convolutional neural networks that include an encoder and a decoder.',\n",
       "  1.0450284630060196),\n",
       " ('The best performing models also connect the encoder and decoder through an attention mechanism.',\n",
       "  -0.0),\n",
       " ('We propose a new simple network architecture, the Transformer, based solely on attention mechanisms, dispensing with recurrence and convolutions entirely.',\n",
       "  1.905863309958677)]"
      ]
     },
     "execution_count": 10,
     "metadata": {},
     "output_type": "execute_result"
    }
   ],
   "source": [
    "list(zip(cc.sources, raw_results))[:5]"
   ]
  },
  {
   "cell_type": "markdown",
   "id": "d1c866e0",
   "metadata": {},
   "source": [
    "### Attributing parts of the response"
   ]
  },
  {
   "cell_type": "markdown",
   "id": "0e4a4bef",
   "metadata": {},
   "source": [
    "`.get_attributions()` optionally takes in `start_idx` and `end_idx` to\n",
    "attribute only a part of the response."
   ]
  },
  {
   "cell_type": "markdown",
   "id": "37675ada",
   "metadata": {},
   "source": [
    "To make it easier to attribute parts of the response, the `ContextCiter` class\n",
    "has a utility property `response_with_indices` that contains the response annotated with\n",
    "the index of each word within the response. You can access this with\n",
    "`cc.response_with_indices`."
   ]
  },
  {
   "cell_type": "code",
   "execution_count": 11,
   "id": "11ebb0e6-2bad-436b-a085-7091d4458ae6",
   "metadata": {},
   "outputs": [
    {
     "name": "stdout",
     "output_type": "stream",
     "text": [
      "\u001b[36m[0]\u001b[0mThe \u001b[36m[4]\u001b[0mauthors \u001b[36m[12]\u001b[0mused \u001b[36m[17]\u001b[0meight \u001b[36m[23]\u001b[0mP100 \u001b[36m[28]\u001b[0mGPUs \u001b[36m[33]\u001b[0min \u001b[36m[36]\u001b[0mtheir \u001b[36m[42]\u001b[0mTransformer \u001b[36m[54]\u001b[0marchitecture \u001b[36m[67]\u001b[0mfor \u001b[36m[71]\u001b[0mtraining \u001b[36m[80]\u001b[0mon \u001b[36m[83]\u001b[0mthe \u001b[36m[87]\u001b[0mWMT \u001b[36m[91]\u001b[0m2014 \u001b[36m[96]\u001b[0mEnglish\u001b[36m[103]\u001b[0m-\u001b[36m[104]\u001b[0mto\u001b[36m[106]\u001b[0m-\u001b[36m[107]\u001b[0mGerman \u001b[36m[114]\u001b[0mtranslation \u001b[36m[126]\u001b[0mtask.</s\u001b[36m[134]\u001b[0m>\n"
     ]
    }
   ],
   "source": [
    "print(cc.response_with_indices)"
   ]
  },
  {
   "cell_type": "markdown",
   "id": "9567eb68",
   "metadata": {},
   "source": [
    "For example, we can attribute a part of the response like so:"
   ]
  },
  {
   "cell_type": "code",
   "execution_count": 12,
   "id": "d16c77fd-a9d3-4fcb-a911-ac56d33a8b59",
   "metadata": {},
   "outputs": [
    {
     "name": "stdout",
     "output_type": "stream",
     "text": [
      "Attributed: eight P100 GPUs\n"
     ]
    },
    {
     "data": {
      "text/html": [
       "<style type=\"text/css\">\n",
       "#T_40d6b_row0_col0 {\n",
       "  background-color: rgb(80, 180, 80);\n",
       "}\n",
       "#T_40d6b_row1_col0 {\n",
       "  background-color: rgb(223.28839985286513, 241.4093142226565, 223.28839985286513);\n",
       "}\n",
       "#T_40d6b_row2_col0 {\n",
       "  background-color: rgb(250.88660713161696, 253.23711734212154, 250.88660713161696);\n",
       "}\n",
       "#T_40d6b_row3_col0 {\n",
       "  background-color: rgb(251.9511142443032, 253.69333467612995, 251.9511142443032);\n",
       "}\n",
       "#T_40d6b_row4_col0 {\n",
       "  background-color: rgb(253.42600181726706, 254.3254293502573, 253.42600181726706);\n",
       "}\n",
       "</style>\n",
       "<table id=\"T_40d6b\">\n",
       "  <thead>\n",
       "    <tr>\n",
       "      <th class=\"blank level0\" >&nbsp;</th>\n",
       "      <th id=\"T_40d6b_level0_col0\" class=\"col_heading level0 col0\" >Score</th>\n",
       "      <th id=\"T_40d6b_level0_col1\" class=\"col_heading level0 col1\" >Source</th>\n",
       "    </tr>\n",
       "  </thead>\n",
       "  <tbody>\n",
       "    <tr>\n",
       "      <th id=\"T_40d6b_level0_row0\" class=\"row_heading level0 row0\" >0</th>\n",
       "      <td id=\"T_40d6b_row0_col0\" class=\"data row0 col0\" >13.384</td>\n",
       "      <td id=\"T_40d6b_row0_col1\" class=\"data row0 col1\" >The Transformer allows for significantly more parallelization and can reach a new state of the art in translation quality after being trained for as little as twelve hours on eight P100 GPUs.</td>\n",
       "    </tr>\n",
       "    <tr>\n",
       "      <th id=\"T_40d6b_level0_row1\" class=\"row_heading level0 row1\" >1</th>\n",
       "      <td id=\"T_40d6b_row1_col0\" class=\"data row1 col0\" >2.425</td>\n",
       "      <td id=\"T_40d6b_row1_col1\" class=\"data row1 col1\" >On the WMT 2014 English-to-French translation task, our model establishes a new single-model state-of-the-art BLEU score of 41.8 after training for 3.5 days on eight GPUs, a small fraction of the training costs of the best models from the literature.</td>\n",
       "    </tr>\n",
       "    <tr>\n",
       "      <th id=\"T_40d6b_level0_row2\" class=\"row_heading level0 row2\" >2</th>\n",
       "      <td id=\"T_40d6b_row2_col0\" class=\"data row2 col0\" >0.315</td>\n",
       "      <td id=\"T_40d6b_row2_col1\" class=\"data row2 col1\" >Aligning the positions to steps in computation time, they generate a sequence of hidden states ht, as a function of the previous hidden state ht-1 and the input for position t. This inherently sequential nature precludes parallelization within training examples, which becomes critical at longer sequence lengths, as memory constraints limit batching across examples.</td>\n",
       "    </tr>\n",
       "    <tr>\n",
       "      <th id=\"T_40d6b_level0_row3\" class=\"row_heading level0 row3\" >3</th>\n",
       "      <td id=\"T_40d6b_row3_col0\" class=\"data row3 col0\" >0.233</td>\n",
       "      <td id=\"T_40d6b_row3_col1\" class=\"data row3 col1\" >The fundamental constraint of sequential computation, however, remains.</td>\n",
       "    </tr>\n",
       "    <tr>\n",
       "      <th id=\"T_40d6b_level0_row4\" class=\"row_heading level0 row4\" >4</th>\n",
       "      <td id=\"T_40d6b_row4_col0\" class=\"data row4 col0\" >0.120</td>\n",
       "      <td id=\"T_40d6b_row4_col1\" class=\"data row4 col1\" >In this work we propose the Transformer, a model architecture eschewing recurrence and instead relying entirely on an attention mechanism to draw global dependencies between input and output.</td>\n",
       "    </tr>\n",
       "  </tbody>\n",
       "</table>\n"
      ],
      "text/plain": [
       "<pandas.io.formats.style.Styler at 0x7fa68a13ebf0>"
      ]
     },
     "execution_count": 12,
     "metadata": {},
     "output_type": "execute_result"
    }
   ],
   "source": [
    "start, end = 17, 32\n",
    "cc.get_attributions(start_idx=start, end_idx=end, as_dataframe=True, top_k=5)"
   ]
  },
  {
   "cell_type": "code",
   "execution_count": 13,
   "id": "dbf8ed92",
   "metadata": {},
   "outputs": [
    {
     "name": "stdout",
     "output_type": "stream",
     "text": [
      "Attributed: the WMT 2014 English-to-German translation task\n"
     ]
    },
    {
     "data": {
      "text/html": [
       "<style type=\"text/css\">\n",
       "#T_e7c3f_row0_col0 {\n",
       "  background-color: rgb(80, 180, 80);\n",
       "}\n",
       "#T_e7c3f_row1_col0 {\n",
       "  background-color: rgb(245.93419114132638, 251.11465334628272, 245.93419114132638);\n",
       "}\n",
       "#T_e7c3f_row2_col0 {\n",
       "  background-color: rgb(251.8080340765311, 253.6320146042276, 251.8080340765311);\n",
       "}\n",
       "#T_e7c3f_row3_col0 {\n",
       "  background-color: rgb(254.36157556610254, 254.72638952832966, 254.36157556610254);\n",
       "}\n",
       "#T_e7c3f_row4_col0 {\n",
       "  background-color: rgb(254.9400679896378, 254.97431485270192, 254.9400679896378);\n",
       "}\n",
       "</style>\n",
       "<table id=\"T_e7c3f\">\n",
       "  <thead>\n",
       "    <tr>\n",
       "      <th class=\"blank level0\" >&nbsp;</th>\n",
       "      <th id=\"T_e7c3f_level0_col0\" class=\"col_heading level0 col0\" >Score</th>\n",
       "      <th id=\"T_e7c3f_level0_col1\" class=\"col_heading level0 col1\" >Source</th>\n",
       "    </tr>\n",
       "  </thead>\n",
       "  <tbody>\n",
       "    <tr>\n",
       "      <th id=\"T_e7c3f_level0_row0\" class=\"row_heading level0 row0\" >0</th>\n",
       "      <td id=\"T_e7c3f_row0_col0\" class=\"data row0 col0\" >12.399</td>\n",
       "      <td id=\"T_e7c3f_row0_col1\" class=\"data row0 col1\" >Our model achieves 28.4 BLEU on the WMT 2014 English-to-German translation task, improving over the existing best results, including ensembles, by over 2 BLEU.</td>\n",
       "    </tr>\n",
       "    <tr>\n",
       "      <th id=\"T_e7c3f_level0_row1\" class=\"row_heading level0 row1\" >1</th>\n",
       "      <td id=\"T_e7c3f_row1_col0\" class=\"data row1 col0\" >0.642</td>\n",
       "      <td id=\"T_e7c3f_row1_col1\" class=\"data row1 col1\" >On the WMT 2014 English-to-French translation task, our model establishes a new single-model state-of-the-art BLEU score of 41.8 after training for 3.5 days on eight GPUs, a small fraction of the training costs of the best models from the literature.</td>\n",
       "    </tr>\n",
       "    <tr>\n",
       "      <th id=\"T_e7c3f_level0_row2\" class=\"row_heading level0 row2\" >2</th>\n",
       "      <td id=\"T_e7c3f_row2_col0\" class=\"data row2 col0\" >0.226</td>\n",
       "      <td id=\"T_e7c3f_row2_col1\" class=\"data row2 col1\" >1 Introduction</td>\n",
       "    </tr>\n",
       "    <tr>\n",
       "      <th id=\"T_e7c3f_level0_row3\" class=\"row_heading level0 row3\" >3</th>\n",
       "      <td id=\"T_e7c3f_row3_col0\" class=\"data row3 col0\" >0.045</td>\n",
       "      <td id=\"T_e7c3f_row3_col1\" class=\"data row3 col1\" >The dominant sequence transduction models are based on complex recurrent or convolutional neural networks that include an encoder and a decoder.</td>\n",
       "    </tr>\n",
       "    <tr>\n",
       "      <th id=\"T_e7c3f_level0_row4\" class=\"row_heading level0 row4\" >4</th>\n",
       "      <td id=\"T_e7c3f_row4_col0\" class=\"data row4 col0\" >0.004</td>\n",
       "      <td id=\"T_e7c3f_row4_col1\" class=\"data row4 col1\" >Attention mechanisms have become an integral part of compelling sequence modeling and transduction models in various tasks, allowing modeling of dependencies without regard to their distance in the input or output sequences [2, 19].</td>\n",
       "    </tr>\n",
       "  </tbody>\n",
       "</table>\n"
      ],
      "text/plain": [
       "<pandas.io.formats.style.Styler at 0x7fa68a13d870>"
      ]
     },
     "execution_count": 13,
     "metadata": {},
     "output_type": "execute_result"
    }
   ],
   "source": [
    "start, end = 83, 129\n",
    "cc.get_attributions(start_idx=start, end_idx=end, as_dataframe=True, top_k=5)"
   ]
  }
 ],
 "metadata": {
  "kernelspec": {
   "display_name": "Python 3 (ipykernel)",
   "language": "python",
   "name": "python3"
  },
  "language_info": {
   "codemirror_mode": {
    "name": "ipython",
    "version": 3
   },
   "file_extension": ".py",
   "mimetype": "text/x-python",
   "name": "python",
   "nbconvert_exporter": "python",
   "pygments_lexer": "ipython3",
   "version": "3.12.3"
  }
 },
 "nbformat": 4,
 "nbformat_minor": 5
}
