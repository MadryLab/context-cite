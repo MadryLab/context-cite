{
 "cells": [
  {
   "cell_type": "code",
   "execution_count": 1,
   "metadata": {},
   "outputs": [
    {
     "name": "stderr",
     "output_type": "stream",
     "text": [
      "/Users/johnyang/miniforge3/envs/ccg/lib/python3.12/site-packages/tqdm/auto.py:21: TqdmWarning: IProgress not found. Please update jupyter and ipywidgets. See https://ipywidgets.readthedocs.io/en/stable/user_install.html\n",
      "  from .autonotebook import tqdm as notebook_tqdm\n",
      "[nltk_data] Downloading package punkt to /Users/johnyang/nltk_data...\n",
      "[nltk_data]   Package punkt is already up-to-date!\n",
      " 34%|███▍      | 11/32 [00:00<00:00, 47.53it/s][nltk_data] Downloading package punkt to /Users/johnyang/nltk_data...\n",
      "[nltk_data]   Package punkt is already up-to-date!\n",
      "[nltk_data] Downloading package punkt to /Users/johnyang/nltk_data...\n",
      "[nltk_data]   Package punkt is already up-to-date!\n",
      "[nltk_data] Downloading package punkt to /Users/johnyang/nltk_data...\n",
      "[nltk_data] Downloading package punkt to /Users/johnyang/nltk_data...\n",
      "[nltk_data]   Package punkt is already up-to-date!\n",
      "[nltk_data]   Package punkt is already up-to-date!\n",
      "[nltk_data] Downloading package punkt to /Users/johnyang/nltk_data...\n",
      "[nltk_data] Downloading package punkt to /Users/johnyang/nltk_data...\n",
      "[nltk_data]   Package punkt is already up-to-date!\n",
      "[nltk_data] Downloading package punkt to /Users/johnyang/nltk_data...\n",
      "[nltk_data] Downloading package punkt to /Users/johnyang/nltk_data...\n",
      "[nltk_data]   Package punkt is already up-to-date!\n",
      "[nltk_data]   Package punkt is already up-to-date!\n",
      "[nltk_data]   Package punkt is already up-to-date!\n",
      "[nltk_data] Downloading package punkt to /Users/johnyang/nltk_data...\n",
      "[nltk_data]   Package punkt is already up-to-date!\n",
      "[nltk_data] Downloading package punkt to /Users/johnyang/nltk_data...\n",
      "[nltk_data]   Package punkt is already up-to-date!\n",
      "[nltk_data] Downloading package punkt to /Users/johnyang/nltk_data...\n",
      "[nltk_data]   Package punkt is already up-to-date!\n",
      "100%|██████████| 32/32 [00:04<00:00,  7.30it/s]\n",
      "/Users/johnyang/Desktop/FP/contextcite/context-cite/context_cite/cc_groq.py:357: UserWarning: To copy construct from a tensor, it is recommended to use sourceTensor.clone().detach() or sourceTensor.clone().detach().requires_grad_(True), rather than torch.tensor(sourceTensor).\n",
      "  cosine_sims = ch.nn.functional.cosine_similarity(embed_selected_response, ch.tensor(embed_responses), dim=1).numpy()\n"
     ]
    }
   ],
   "source": [
    "from cc_groq import GroqContextCiter\n",
    "context = \"\"\"\n",
    "Attention Is All You Need\n",
    "\n",
    "Abstract\n",
    "The dominant sequence transduction models are based on complex recurrent or convolutional neural networks that include an encoder and a decoder. The best performing models also connect the encoder and decoder through an attention mechanism. We propose a new simple network architecture, the Transformer, based solely on attention mechanisms, dispensing with recurrence and convolutions entirely. Experiments on two machine translation tasks show these models to be superior in quality while being more parallelizable and requiring significantly less time to train. Our model achieves 28.4 BLEU on the WMT 2014 English-to-German translation task, improving over the existing best results, including ensembles, by over 2 BLEU. On the WMT 2014 English-to-French translation task, our model establishes a new single-model state-of-the-art BLEU score of 41.8 after training for 3.5 days on eight GPUs, a small fraction of the training costs of the best models from the literature. We show that the Transformer generalizes well to other tasks by applying it successfully to English constituency parsing both with large and limited training data.\n",
    "1 Introduction\n",
    "Recurrent neural networks, long short-term memory [13] and gated recurrent [7] neural networks in particular, have been firmly established as state of the art approaches in sequence modeling and transduction problems such as language modeling and machine translation [35, 2, 5]. Numerous efforts have since continued to push the boundaries of recurrent language models and encoder-decoder architectures [38, 24, 15].\n",
    "Recurrent models typically factor computation along the symbol positions of the input and output sequences. Aligning the positions to steps in computation time, they generate a sequence of hidden states ht, as a function of the previous hidden state ht-1 and the input for position t. This inherently sequential nature precludes parallelization within training examples, which becomes critical at longer sequence lengths, as memory constraints limit batching across examples. Recent work has achieved significant improvements in computational efficiency through factorization tricks [21] and conditional computation [32], while also improving model performance in case of the latter. The fundamental constraint of sequential computation, however, remains.\n",
    "Attention mechanisms have become an integral part of compelling sequence modeling and transduction models in various tasks, allowing modeling of dependencies without regard to their distance in the input or output sequences [2, 19]. In all but a few cases [27], however, such attention mechanisms are used in conjunction with a recurrent network.\n",
    "In this work we propose the Transformer, a model architecture eschewing recurrence and instead relying entirely on an attention mechanism to draw global dependencies between input and output. The Transformer allows for significantly more parallelization and can reach a new state of the art in translation quality after being trained for as little as twelve hours on eight P100 GPUs.\n",
    "\"\"\"\n",
    "query = \"What type of GPUs did the authors use in this paper?\"\n",
    "\n",
    "cc = GroqContextCiter(groq_model='llama3-8b-8192', context=context, query=query, num_ablations=32)\n",
    "# %%\n",
    "cc.response\n",
    "\n",
    "masks, outputs = cc._cosine_sim(0, len(cc.response)) # (num_ablations,)"
   ]
  },
  {
   "cell_type": "code",
   "execution_count": 6,
   "metadata": {},
   "outputs": [
    {
     "name": "stdout",
     "output_type": "stream",
     "text": [
      "Best alpha selected: 0.001\n"
     ]
    }
   ],
   "source": [
    "weight, bias = cc.solver.fit_cv(masks, outputs, alphas=[0.001, 0.0001])"
   ]
  },
  {
   "cell_type": "code",
   "execution_count": 7,
   "metadata": {},
   "outputs": [
    {
     "data": {
      "text/plain": [
       "(array([-0.05529358,  0.06523213,  0.0766981 ,  0.02787049,  0.01996927,\n",
       "         0.07506782,  0.03231947,  0.01253854,  0.01603531,  0.14304488,\n",
       "        -0.0248171 ,  0.01618369,  0.06610643,  0.02520952, -0.04075007,\n",
       "         0.02465776, -0.10915447,  0.05641357,  0.05461961, -0.06637193]),\n",
       " 0)"
      ]
     },
     "execution_count": 7,
     "metadata": {},
     "output_type": "execute_result"
    }
   ],
   "source": [
    "weight, bias"
   ]
  },
  {
   "cell_type": "code",
   "execution_count": 8,
   "metadata": {},
   "outputs": [
    {
     "data": {
      "text/plain": [
       "'\\nAttention Is All You Need\\n\\nAbstract\\nThe dominant sequence transduction models are based on complex recurrent or convolutional neural networks that include an encoder and a decoder. The best performing models also connect the encoder and decoder through an attention mechanism. We propose a new simple network architecture, the Transformer, based solely on attention mechanisms, dispensing with recurrence and convolutions entirely. Experiments on two machine translation tasks show these models to be superior in quality while being more parallelizable and requiring significantly less time to train. Our model achieves 28.4 BLEU on the WMT 2014 English-to-German translation task, improving over the existing best results, including ensembles, by over 2 BLEU. On the WMT 2014 English-to-French translation task, our model establishes a new single-model state-of-the-art BLEU score of 41.8 after training for 3.5 days on eight GPUs, a small fraction of the training costs of the best models from the literature. We show that the Transformer generalizes well to other tasks by applying it successfully to English constituency parsing both with large and limited training data.\\n1 Introduction\\nRecurrent neural networks, long short-term memory [13] and gated recurrent [7] neural networks in particular, have been firmly established as state of the art approaches in sequence modeling and transduction problems such as language modeling and machine translation [35, 2, 5]. Numerous efforts have since continued to push the boundaries of recurrent language models and encoder-decoder architectures [38, 24, 15].\\nRecurrent models typically factor computation along the symbol positions of the input and output sequences. Aligning the positions to steps in computation time, they generate a sequence of hidden states ht, as a function of the previous hidden state ht-1 and the input for position t. This inherently sequential nature precludes parallelization within training examples, which becomes critical at longer sequence lengths, as memory constraints limit batching across examples. Recent work has achieved significant improvements in computational efficiency through factorization tricks [21] and conditional computation [32], while also improving model performance in case of the latter. The fundamental constraint of sequential computation, however, remains.\\nAttention mechanisms have become an integral part of compelling sequence modeling and transduction models in various tasks, allowing modeling of dependencies without regard to their distance in the input or output sequences [2, 19]. In all but a few cases [27], however, such attention mechanisms are used in conjunction with a recurrent network.\\nIn this work we propose the Transformer, a model architecture eschewing recurrence and instead relying entirely on an attention mechanism to draw global dependencies between input and output. The Transformer allows for significantly more parallelization and can reach a new state of the art in translation quality after being trained for as little as twelve hours on eight P100 GPUs.\\n'"
      ]
     },
     "execution_count": 8,
     "metadata": {},
     "output_type": "execute_result"
    }
   ],
   "source": [
    "cc.context"
   ]
  },
  {
   "cell_type": "code",
   "execution_count": 10,
   "metadata": {},
   "outputs": [
    {
     "name": "stdout",
     "output_type": "stream",
     "text": [
      "Cosine Similarities Shape: (128,)\n",
      "Masks Shape: (128, 20)\n"
     ]
    }
   ],
   "source": [
    "import numpy as np\n",
    "\n",
    "# Load the saved masks and cosine similarities\n",
    "cosine_sims = np.load(\"../cosine_sims.npy\")\n",
    "masks = np.load(\"../masks.npy\")\n",
    "\n",
    "# Print the shapes to verify the data\n",
    "print(f\"Cosine Similarities Shape: {cosine_sims.shape}\")\n",
    "print(f\"Masks Shape: {masks.shape}\")\n"
   ]
  },
  {
   "cell_type": "code",
   "execution_count": 18,
   "metadata": {},
   "outputs": [
    {
     "data": {
      "text/plain": [
       "array([ True,  True, False, False, False,  True, False, False, False,\n",
       "       False,  True,  True, False,  True,  True,  True, False,  True,\n",
       "        True, False,  True, False,  True, False,  True,  True,  True,\n",
       "        True,  True,  True,  True,  True,  True, False,  True,  True,\n",
       "       False, False,  True, False,  True,  True, False,  True, False,\n",
       "       False,  True,  True,  True,  True,  True,  True,  True,  True,\n",
       "        True,  True,  True,  True, False, False,  True, False,  True,\n",
       "        True, False,  True, False,  True, False,  True,  True,  True,\n",
       "       False,  True, False,  True, False,  True,  True, False, False,\n",
       "        True,  True, False,  True,  True, False,  True,  True, False,\n",
       "        True, False, False, False,  True, False, False, False, False,\n",
       "        True,  True, False, False,  True,  True, False, False, False,\n",
       "        True, False,  True, False, False,  True,  True, False,  True,\n",
       "       False,  True,  True, False,  True,  True,  True,  True, False,\n",
       "       False, False])"
      ]
     },
     "execution_count": 18,
     "metadata": {},
     "output_type": "execute_result"
    }
   ],
   "source": [
    "masks[: , -1]"
   ]
  },
  {
   "cell_type": "code",
   "execution_count": 19,
   "metadata": {},
   "outputs": [],
   "source": [
    "import pandas as pd\n",
    "\n",
    "# Create a DataFrame with the cosine similarities and masks\n",
    "data = {\n",
    "    'context': [cc.partitioner.get_context(mask) for mask in masks],\n",
    "    'cosine_similarities': cosine_sims,\n",
    "    'masks': masks[:, -1]\n",
    "}\n",
    "\n",
    "# Convert the dictionary to a DataFrame\n",
    "df = pd.DataFrame(data)\n"
   ]
  },
  {
   "cell_type": "code",
   "execution_count": 20,
   "metadata": {},
   "outputs": [
    {
     "data": {
      "text/html": [
       "<div>\n",
       "<style scoped>\n",
       "    .dataframe tbody tr th:only-of-type {\n",
       "        vertical-align: middle;\n",
       "    }\n",
       "\n",
       "    .dataframe tbody tr th {\n",
       "        vertical-align: top;\n",
       "    }\n",
       "\n",
       "    .dataframe thead th {\n",
       "        text-align: right;\n",
       "    }\n",
       "</style>\n",
       "<table border=\"1\" class=\"dataframe\">\n",
       "  <thead>\n",
       "    <tr style=\"text-align: right;\">\n",
       "      <th></th>\n",
       "      <th>context</th>\n",
       "      <th>cosine_similarities</th>\n",
       "      <th>masks</th>\n",
       "    </tr>\n",
       "  </thead>\n",
       "  <tbody>\n",
       "    <tr>\n",
       "      <th>0</th>\n",
       "      <td>Attention Is All You Need\\n\\nAbstract\\nThe dom...</td>\n",
       "      <td>0.703759</td>\n",
       "      <td>True</td>\n",
       "    </tr>\n",
       "    <tr>\n",
       "      <th>1</th>\n",
       "      <td>Attention Is All You Need\\n\\nAbstract The best...</td>\n",
       "      <td>0.588415</td>\n",
       "      <td>True</td>\n",
       "    </tr>\n",
       "    <tr>\n",
       "      <th>2</th>\n",
       "      <td>The dominant sequence transduction models are ...</td>\n",
       "      <td>0.524443</td>\n",
       "      <td>False</td>\n",
       "    </tr>\n",
       "    <tr>\n",
       "      <th>3</th>\n",
       "      <td>The dominant sequence transduction models are ...</td>\n",
       "      <td>0.488195</td>\n",
       "      <td>False</td>\n",
       "    </tr>\n",
       "    <tr>\n",
       "      <th>4</th>\n",
       "      <td>The best performing models also connect the en...</td>\n",
       "      <td>0.690663</td>\n",
       "      <td>False</td>\n",
       "    </tr>\n",
       "    <tr>\n",
       "      <th>...</th>\n",
       "      <td>...</td>\n",
       "      <td>...</td>\n",
       "      <td>...</td>\n",
       "    </tr>\n",
       "    <tr>\n",
       "      <th>123</th>\n",
       "      <td>Abstract The best performing models also conne...</td>\n",
       "      <td>0.693390</td>\n",
       "      <td>True</td>\n",
       "    </tr>\n",
       "    <tr>\n",
       "      <th>124</th>\n",
       "      <td>Abstract\\nThe dominant sequence transduction m...</td>\n",
       "      <td>0.690639</td>\n",
       "      <td>True</td>\n",
       "    </tr>\n",
       "    <tr>\n",
       "      <th>125</th>\n",
       "      <td>Attention Is All You Need\\nThe dominant sequen...</td>\n",
       "      <td>0.582765</td>\n",
       "      <td>False</td>\n",
       "    </tr>\n",
       "    <tr>\n",
       "      <th>126</th>\n",
       "      <td>The dominant sequence transduction models are ...</td>\n",
       "      <td>0.622305</td>\n",
       "      <td>False</td>\n",
       "    </tr>\n",
       "    <tr>\n",
       "      <th>127</th>\n",
       "      <td>Attention Is All You Need\\n\\nAbstract The best...</td>\n",
       "      <td>0.688255</td>\n",
       "      <td>False</td>\n",
       "    </tr>\n",
       "  </tbody>\n",
       "</table>\n",
       "<p>128 rows × 3 columns</p>\n",
       "</div>"
      ],
      "text/plain": [
       "                                               context  cosine_similarities  \\\n",
       "0    Attention Is All You Need\\n\\nAbstract\\nThe dom...             0.703759   \n",
       "1    Attention Is All You Need\\n\\nAbstract The best...             0.588415   \n",
       "2    The dominant sequence transduction models are ...             0.524443   \n",
       "3    The dominant sequence transduction models are ...             0.488195   \n",
       "4    The best performing models also connect the en...             0.690663   \n",
       "..                                                 ...                  ...   \n",
       "123  Abstract The best performing models also conne...             0.693390   \n",
       "124  Abstract\\nThe dominant sequence transduction m...             0.690639   \n",
       "125  Attention Is All You Need\\nThe dominant sequen...             0.582765   \n",
       "126  The dominant sequence transduction models are ...             0.622305   \n",
       "127  Attention Is All You Need\\n\\nAbstract The best...             0.688255   \n",
       "\n",
       "     masks  \n",
       "0     True  \n",
       "1     True  \n",
       "2    False  \n",
       "3    False  \n",
       "4    False  \n",
       "..     ...  \n",
       "123   True  \n",
       "124   True  \n",
       "125  False  \n",
       "126  False  \n",
       "127  False  \n",
       "\n",
       "[128 rows x 3 columns]"
      ]
     },
     "execution_count": 20,
     "metadata": {},
     "output_type": "execute_result"
    }
   ],
   "source": [
    "df"
   ]
  },
  {
   "cell_type": "code",
   "execution_count": 21,
   "metadata": {},
   "outputs": [],
   "source": [
    "# Sort the DataFrame by cosine similarities in descending order\n",
    "df = df.sort_values(by='cosine_similarities', ascending=False)\n"
   ]
  },
  {
   "cell_type": "code",
   "execution_count": 22,
   "metadata": {},
   "outputs": [
    {
     "data": {
      "text/html": [
       "<div>\n",
       "<style scoped>\n",
       "    .dataframe tbody tr th:only-of-type {\n",
       "        vertical-align: middle;\n",
       "    }\n",
       "\n",
       "    .dataframe tbody tr th {\n",
       "        vertical-align: top;\n",
       "    }\n",
       "\n",
       "    .dataframe thead th {\n",
       "        text-align: right;\n",
       "    }\n",
       "</style>\n",
       "<table border=\"1\" class=\"dataframe\">\n",
       "  <thead>\n",
       "    <tr style=\"text-align: right;\">\n",
       "      <th></th>\n",
       "      <th>context</th>\n",
       "      <th>cosine_similarities</th>\n",
       "      <th>masks</th>\n",
       "    </tr>\n",
       "  </thead>\n",
       "  <tbody>\n",
       "    <tr>\n",
       "      <th>18</th>\n",
       "      <td>Abstract\\nThe dominant sequence transduction m...</td>\n",
       "      <td>0.828172</td>\n",
       "      <td>True</td>\n",
       "    </tr>\n",
       "    <tr>\n",
       "      <th>91</th>\n",
       "      <td>Attention Is All You Need The best performing ...</td>\n",
       "      <td>0.802390</td>\n",
       "      <td>False</td>\n",
       "    </tr>\n",
       "    <tr>\n",
       "      <th>55</th>\n",
       "      <td>Abstract The best performing models also conne...</td>\n",
       "      <td>0.802390</td>\n",
       "      <td>True</td>\n",
       "    </tr>\n",
       "    <tr>\n",
       "      <th>121</th>\n",
       "      <td>Abstract The best performing models also conne...</td>\n",
       "      <td>0.802390</td>\n",
       "      <td>True</td>\n",
       "    </tr>\n",
       "    <tr>\n",
       "      <th>93</th>\n",
       "      <td>Attention Is All You Need On the WMT 2014 Engl...</td>\n",
       "      <td>0.802390</td>\n",
       "      <td>False</td>\n",
       "    </tr>\n",
       "    <tr>\n",
       "      <th>...</th>\n",
       "      <td>...</td>\n",
       "      <td>...</td>\n",
       "      <td>...</td>\n",
       "    </tr>\n",
       "    <tr>\n",
       "      <th>88</th>\n",
       "      <td>Abstract The best performing models also conne...</td>\n",
       "      <td>0.489879</td>\n",
       "      <td>True</td>\n",
       "    </tr>\n",
       "    <tr>\n",
       "      <th>3</th>\n",
       "      <td>The dominant sequence transduction models are ...</td>\n",
       "      <td>0.488195</td>\n",
       "      <td>False</td>\n",
       "    </tr>\n",
       "    <tr>\n",
       "      <th>12</th>\n",
       "      <td>Attention Is All You Need\\nThe dominant sequen...</td>\n",
       "      <td>0.479876</td>\n",
       "      <td>False</td>\n",
       "    </tr>\n",
       "    <tr>\n",
       "      <th>64</th>\n",
       "      <td>Abstract Experiments on two machine translatio...</td>\n",
       "      <td>0.476136</td>\n",
       "      <td>False</td>\n",
       "    </tr>\n",
       "    <tr>\n",
       "      <th>17</th>\n",
       "      <td>We propose a new simple network architecture, ...</td>\n",
       "      <td>0.422589</td>\n",
       "      <td>True</td>\n",
       "    </tr>\n",
       "  </tbody>\n",
       "</table>\n",
       "<p>128 rows × 3 columns</p>\n",
       "</div>"
      ],
      "text/plain": [
       "                                               context  cosine_similarities  \\\n",
       "18   Abstract\\nThe dominant sequence transduction m...             0.828172   \n",
       "91   Attention Is All You Need The best performing ...             0.802390   \n",
       "55   Abstract The best performing models also conne...             0.802390   \n",
       "121  Abstract The best performing models also conne...             0.802390   \n",
       "93   Attention Is All You Need On the WMT 2014 Engl...             0.802390   \n",
       "..                                                 ...                  ...   \n",
       "88   Abstract The best performing models also conne...             0.489879   \n",
       "3    The dominant sequence transduction models are ...             0.488195   \n",
       "12   Attention Is All You Need\\nThe dominant sequen...             0.479876   \n",
       "64   Abstract Experiments on two machine translatio...             0.476136   \n",
       "17   We propose a new simple network architecture, ...             0.422589   \n",
       "\n",
       "     masks  \n",
       "18    True  \n",
       "91   False  \n",
       "55    True  \n",
       "121   True  \n",
       "93   False  \n",
       "..     ...  \n",
       "88    True  \n",
       "3    False  \n",
       "12   False  \n",
       "64   False  \n",
       "17    True  \n",
       "\n",
       "[128 rows x 3 columns]"
      ]
     },
     "execution_count": 22,
     "metadata": {},
     "output_type": "execute_result"
    }
   ],
   "source": [
    "df"
   ]
  },
  {
   "cell_type": "code",
   "execution_count": 23,
   "metadata": {},
   "outputs": [
    {
     "data": {
      "image/png": "[encoded data removed]",
      "text/plain": [
       "<Figure size 1000x600 with 2 Axes>"
      ]
     },
     "metadata": {},
     "output_type": "display_data"
    }
   ],
   "source": [
    "import matplotlib.pyplot as plt\n",
    "\n",
    "# Plot scatterplot of cosine similarities with masks label to color\n",
    "plt.figure(figsize=(10, 6))\n",
    "scatter = plt.scatter(df['cosine_similarities'], range(len(df)), c=df['masks'], cmap='viridis', label=df['masks'])\n",
    "plt.colorbar(scatter, label='Masks')\n",
    "plt.xlabel('Cosine Similarities')\n",
    "plt.ylabel('Index')\n",
    "plt.title('Scatterplot of Cosine Similarities with Masks Label to Color')\n",
    "plt.show()"
   ]
  },
  {
   "cell_type": "code",
   "execution_count": null,
   "metadata": {},
   "outputs": [],
   "source": [
    "cc.partitioner.get_context(mask)"
   ]
  },
  {
   "cell_type": "code",
   "execution_count": 5,
   "metadata": {},
   "outputs": [
    {
     "data": {
      "text/plain": [
       "array([0.70375943, 0.58841527, 0.52444327, 0.48819467, 0.6906631 ,\n",
       "       0.68825513, 0.68755376, 0.635332  , 0.562724  , 0.6920644 ,\n",
       "       0.6919276 , 0.5280122 , 0.4798759 , 0.60235214, 0.7003183 ,\n",
       "       0.5876734 , 0.5169804 , 0.42258874, 0.82817185, 0.6988414 ,\n",
       "       0.60807484, 0.58103955, 0.59082407, 0.60341424, 0.76794076,\n",
       "       0.71785724, 0.58841527, 0.5675518 , 0.68755376, 0.6988414 ,\n",
       "       0.5390142 , 0.7003183 , 0.80239034, 0.5283355 , 0.5215739 ,\n",
       "       0.6484661 , 0.647852  , 0.6841232 , 0.68825513, 0.6888183 ,\n",
       "       0.59314823, 0.5885009 , 0.5937017 , 0.67361176, 0.5680839 ,\n",
       "       0.5302841 , 0.6888183 , 0.58841527, 0.6194014 , 0.50541353,\n",
       "       0.5297793 , 0.5980575 , 0.68755376, 0.6888183 , 0.68825513,\n",
       "       0.80239034, 0.6988414 , 0.57919776, 0.6988414 , 0.5875684 ,\n",
       "       0.7176773 , 0.69474304, 0.5996979 , 0.69474304, 0.47613633,\n",
       "       0.68825513, 0.7824988 , 0.58486843, 0.6019949 , 0.635332  ,\n",
       "       0.5121372 , 0.5650554 , 0.7421419 , 0.5907363 , 0.6888183 ,\n",
       "       0.6906631 , 0.7003183 , 0.7908119 , 0.70375943, 0.5464805 ,\n",
       "       0.5329807 , 0.69474304, 0.5835176 , 0.71785724, 0.60846055,\n",
       "       0.5640315 , 0.6723296 , 0.57001203, 0.48987883, 0.5518948 ,\n",
       "       0.6988414 , 0.80239034, 0.76794076, 0.80239034, 0.7609208 ,\n",
       "       0.6150206 , 0.75415725, 0.5653842 , 0.56538427, 0.70375943,\n",
       "       0.58740175, 0.5602268 , 0.57336426, 0.69474304, 0.68755376,\n",
       "       0.53230214, 0.69131386, 0.68755376, 0.68825513, 0.58222497,\n",
       "       0.578705  , 0.68755376, 0.6168077 , 0.708207  , 0.5952899 ,\n",
       "       0.6919276 , 0.71243197, 0.68825513, 0.66183966, 0.6841232 ,\n",
       "       0.5761515 , 0.80239034, 0.6919276 , 0.6933905 , 0.6906388 ,\n",
       "       0.58276534, 0.6223049 , 0.68825513], dtype=float32)"
      ]
     },
     "execution_count": 5,
     "metadata": {},
     "output_type": "execute_result"
    }
   ],
   "source": [
    "cosine_sims"
   ]
  },
  {
   "cell_type": "code",
   "execution_count": 4,
   "metadata": {},
   "outputs": [
    {
     "name": "stderr",
     "output_type": "stream",
     "text": [
      "Matplotlib is building the font cache; this may take a moment.\n"
     ]
    },
    {
     "ename": "NameError",
     "evalue": "name 'results' is not defined",
     "output_type": "error",
     "traceback": [
      "\u001b[0;31m---------------------------------------------------------------------------\u001b[0m",
      "\u001b[0;31mNameError\u001b[0m                                 Traceback (most recent call last)",
      "Cell \u001b[0;32mIn[4], line 4\u001b[0m\n\u001b[1;32m      1\u001b[0m \u001b[38;5;28;01mimport\u001b[39;00m \u001b[38;5;21;01mmatplotlib\u001b[39;00m\u001b[38;5;21;01m.\u001b[39;00m\u001b[38;5;21;01mpyplot\u001b[39;00m \u001b[38;5;28;01mas\u001b[39;00m \u001b[38;5;21;01mplt\u001b[39;00m\n\u001b[1;32m      3\u001b[0m \u001b[38;5;66;03m# Assuming 'results' is a DataFrame with the attributions data\u001b[39;00m\n\u001b[0;32m----> 4\u001b[0m \u001b[43mresults\u001b[49m\u001b[38;5;241m.\u001b[39mplot(kind\u001b[38;5;241m=\u001b[39m\u001b[38;5;124m'\u001b[39m\u001b[38;5;124mbar\u001b[39m\u001b[38;5;124m'\u001b[39m, x\u001b[38;5;241m=\u001b[39m\u001b[38;5;124m'\u001b[39m\u001b[38;5;124mfeature\u001b[39m\u001b[38;5;124m'\u001b[39m, y\u001b[38;5;241m=\u001b[39m\u001b[38;5;124m'\u001b[39m\u001b[38;5;124mimportance\u001b[39m\u001b[38;5;124m'\u001b[39m, legend\u001b[38;5;241m=\u001b[39m\u001b[38;5;28;01mFalse\u001b[39;00m)\n\u001b[1;32m      5\u001b[0m plt\u001b[38;5;241m.\u001b[39mxlabel(\u001b[38;5;124m'\u001b[39m\u001b[38;5;124mFeature\u001b[39m\u001b[38;5;124m'\u001b[39m)\n\u001b[1;32m      6\u001b[0m plt\u001b[38;5;241m.\u001b[39mylabel(\u001b[38;5;124m'\u001b[39m\u001b[38;5;124mImportance\u001b[39m\u001b[38;5;124m'\u001b[39m)\n",
      "\u001b[0;31mNameError\u001b[0m: name 'results' is not defined"
     ]
    }
   ],
   "source": [
    "import matplotlib.pyplot as plt\n",
    "\n",
    "# Assuming 'results' is a DataFrame with the attributions data\n",
    "results.plot(kind='bar', x='feature', y='importance', legend=False)\n",
    "plt.xlabel('Feature')\n",
    "plt.ylabel('Importance')\n",
    "plt.title('Top 5 Feature Importances')\n",
    "plt.show()\n"
   ]
  },
  {
   "cell_type": "code",
   "execution_count": null,
   "metadata": {},
   "outputs": [],
   "source": []
  }
 ],
 "metadata": {
  "kernelspec": {
   "display_name": "ccg",
   "language": "python",
   "name": "python3"
  },
  "language_info": {
   "codemirror_mode": {
    "name": "ipython",
    "version": 3
   },
   "file_extension": ".py",
   "mimetype": "text/x-python",
   "name": "python",
   "nbconvert_exporter": "python",
   "pygments_lexer": "ipython3",
   "version": "3.12.3"
  }
 },
 "nbformat": 4,
 "nbformat_minor": 2
}
